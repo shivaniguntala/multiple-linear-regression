{
 "cells": [
  {
   "cell_type": "code",
   "execution_count": 619,
   "id": "1899b58d",
   "metadata": {},
   "outputs": [],
   "source": [
    "import pandas as pd\n",
    "import numpy as np\n",
    "import matplotlib.pyplot as plt\n",
    "%matplotlib inline"
   ]
  },
  {
   "cell_type": "code",
   "execution_count": 620,
   "id": "eae03fbd",
   "metadata": {},
   "outputs": [],
   "source": [
    "bigmarttrain=pd.read_csv(\"train_v9rqX0R.csv\")"
   ]
  },
  {
   "cell_type": "code",
   "execution_count": 621,
   "id": "27ac4c39",
   "metadata": {},
   "outputs": [],
   "source": [
    "bigmarttest=pd.read_csv(\"test_AbJTz2l (1).csv\")"
   ]
  },
  {
   "cell_type": "code",
   "execution_count": 622,
   "id": "7e8bb2fe",
   "metadata": {},
   "outputs": [
    {
     "data": {
      "text/plain": [
       "Index(['Item_Identifier', 'Item_Weight', 'Item_Fat_Content', 'Item_Visibility',\n",
       "       'Item_Type', 'Item_MRP', 'Outlet_Identifier',\n",
       "       'Outlet_Establishment_Year', 'Outlet_Size', 'Outlet_Location_Type',\n",
       "       'Outlet_Type', 'Item_Outlet_Sales'],\n",
       "      dtype='object')"
      ]
     },
     "execution_count": 622,
     "metadata": {},
     "output_type": "execute_result"
    }
   ],
   "source": [
    "bigmarttrain.columns"
   ]
  },
  {
   "cell_type": "code",
   "execution_count": 623,
   "id": "463b6f40",
   "metadata": {},
   "outputs": [
    {
     "data": {
      "text/plain": [
       "Index(['Item_Identifier', 'Item_Weight', 'Item_Fat_Content', 'Item_Visibility',\n",
       "       'Item_Type', 'Item_MRP', 'Outlet_Identifier',\n",
       "       'Outlet_Establishment_Year', 'Outlet_Size', 'Outlet_Location_Type',\n",
       "       'Outlet_Type'],\n",
       "      dtype='object')"
      ]
     },
     "execution_count": 623,
     "metadata": {},
     "output_type": "execute_result"
    }
   ],
   "source": [
    "bigmarttest.columns"
   ]
  },
  {
   "cell_type": "code",
   "execution_count": 624,
   "id": "400ef459",
   "metadata": {},
   "outputs": [],
   "source": [
    "bigmarttest['Item_Outlet_Sales']='test'"
   ]
  },
  {
   "cell_type": "code",
   "execution_count": 625,
   "id": "334a5ccf",
   "metadata": {},
   "outputs": [],
   "source": [
    "combinedf=pd.concat([bigmarttrain,bigmarttest],axis=0)"
   ]
  },
  {
   "cell_type": "code",
   "execution_count": 626,
   "id": "300212af",
   "metadata": {},
   "outputs": [
    {
     "data": {
      "text/plain": [
       "(14204, 12)"
      ]
     },
     "execution_count": 626,
     "metadata": {},
     "output_type": "execute_result"
    }
   ],
   "source": [
    "combinedf.shape"
   ]
  },
  {
   "cell_type": "code",
   "execution_count": 627,
   "id": "f74cc4e3",
   "metadata": {},
   "outputs": [
    {
     "data": {
      "text/plain": [
       "Index(['Item_Identifier', 'Item_Weight', 'Item_Fat_Content', 'Item_Visibility',\n",
       "       'Item_Type', 'Item_MRP', 'Outlet_Identifier',\n",
       "       'Outlet_Establishment_Year', 'Outlet_Size', 'Outlet_Location_Type',\n",
       "       'Outlet_Type', 'Item_Outlet_Sales'],\n",
       "      dtype='object')"
      ]
     },
     "execution_count": 627,
     "metadata": {},
     "output_type": "execute_result"
    }
   ],
   "source": [
    "combinedf.columns"
   ]
  },
  {
   "cell_type": "code",
   "execution_count": 628,
   "id": "312a8e79",
   "metadata": {},
   "outputs": [
    {
     "data": {
      "text/html": [
       "<div>\n",
       "<style scoped>\n",
       "    .dataframe tbody tr th:only-of-type {\n",
       "        vertical-align: middle;\n",
       "    }\n",
       "\n",
       "    .dataframe tbody tr th {\n",
       "        vertical-align: top;\n",
       "    }\n",
       "\n",
       "    .dataframe thead th {\n",
       "        text-align: right;\n",
       "    }\n",
       "</style>\n",
       "<table border=\"1\" class=\"dataframe\">\n",
       "  <thead>\n",
       "    <tr style=\"text-align: right;\">\n",
       "      <th></th>\n",
       "      <th>Item_Weight</th>\n",
       "      <th>Item_Visibility</th>\n",
       "      <th>Item_MRP</th>\n",
       "      <th>Outlet_Establishment_Year</th>\n",
       "    </tr>\n",
       "  </thead>\n",
       "  <tbody>\n",
       "    <tr>\n",
       "      <th>count</th>\n",
       "      <td>11765.000000</td>\n",
       "      <td>14204.000000</td>\n",
       "      <td>14204.000000</td>\n",
       "      <td>14204.000000</td>\n",
       "    </tr>\n",
       "    <tr>\n",
       "      <th>mean</th>\n",
       "      <td>12.792854</td>\n",
       "      <td>0.065953</td>\n",
       "      <td>141.004977</td>\n",
       "      <td>1997.830681</td>\n",
       "    </tr>\n",
       "    <tr>\n",
       "      <th>std</th>\n",
       "      <td>4.652502</td>\n",
       "      <td>0.051459</td>\n",
       "      <td>62.086938</td>\n",
       "      <td>8.371664</td>\n",
       "    </tr>\n",
       "    <tr>\n",
       "      <th>min</th>\n",
       "      <td>4.555000</td>\n",
       "      <td>0.000000</td>\n",
       "      <td>31.290000</td>\n",
       "      <td>1985.000000</td>\n",
       "    </tr>\n",
       "    <tr>\n",
       "      <th>25%</th>\n",
       "      <td>8.710000</td>\n",
       "      <td>0.027036</td>\n",
       "      <td>94.012000</td>\n",
       "      <td>1987.000000</td>\n",
       "    </tr>\n",
       "    <tr>\n",
       "      <th>50%</th>\n",
       "      <td>12.600000</td>\n",
       "      <td>0.054021</td>\n",
       "      <td>142.247000</td>\n",
       "      <td>1999.000000</td>\n",
       "    </tr>\n",
       "    <tr>\n",
       "      <th>75%</th>\n",
       "      <td>16.750000</td>\n",
       "      <td>0.094037</td>\n",
       "      <td>185.855600</td>\n",
       "      <td>2004.000000</td>\n",
       "    </tr>\n",
       "    <tr>\n",
       "      <th>max</th>\n",
       "      <td>21.350000</td>\n",
       "      <td>0.328391</td>\n",
       "      <td>266.888400</td>\n",
       "      <td>2009.000000</td>\n",
       "    </tr>\n",
       "  </tbody>\n",
       "</table>\n",
       "</div>"
      ],
      "text/plain": [
       "        Item_Weight  Item_Visibility      Item_MRP  Outlet_Establishment_Year\n",
       "count  11765.000000     14204.000000  14204.000000               14204.000000\n",
       "mean      12.792854         0.065953    141.004977                1997.830681\n",
       "std        4.652502         0.051459     62.086938                   8.371664\n",
       "min        4.555000         0.000000     31.290000                1985.000000\n",
       "25%        8.710000         0.027036     94.012000                1987.000000\n",
       "50%       12.600000         0.054021    142.247000                1999.000000\n",
       "75%       16.750000         0.094037    185.855600                2004.000000\n",
       "max       21.350000         0.328391    266.888400                2009.000000"
      ]
     },
     "execution_count": 628,
     "metadata": {},
     "output_type": "execute_result"
    }
   ],
   "source": [
    "combinedf.describe()"
   ]
  },
  {
   "cell_type": "code",
   "execution_count": 629,
   "id": "44bd94b0",
   "metadata": {},
   "outputs": [
    {
     "data": {
      "text/plain": [
       "Outlet_Size                  4016\n",
       "Item_Weight                  2439\n",
       "Item_Identifier                 0\n",
       "Item_Fat_Content                0\n",
       "Item_Visibility                 0\n",
       "Item_Type                       0\n",
       "Item_MRP                        0\n",
       "Outlet_Identifier               0\n",
       "Outlet_Establishment_Year       0\n",
       "Outlet_Location_Type            0\n",
       "Outlet_Type                     0\n",
       "Item_Outlet_Sales               0\n",
       "dtype: int64"
      ]
     },
     "execution_count": 629,
     "metadata": {},
     "output_type": "execute_result"
    }
   ],
   "source": [
    "combinedf.isnull().sum().sort_values(ascending=False)"
   ]
  },
  {
   "cell_type": "code",
   "execution_count": 630,
   "id": "7377bc25",
   "metadata": {},
   "outputs": [
    {
     "data": {
      "text/plain": [
       "Item_Identifier                 0\n",
       "Item_Fat_Content                0\n",
       "Item_Visibility                 0\n",
       "Item_Type                       0\n",
       "Item_MRP                        0\n",
       "Outlet_Identifier               0\n",
       "Outlet_Establishment_Year       0\n",
       "Outlet_Location_Type            0\n",
       "Outlet_Type                     0\n",
       "Item_Outlet_Sales               0\n",
       "Item_Weight                  2439\n",
       "Outlet_Size                  4016\n",
       "dtype: int64"
      ]
     },
     "execution_count": 630,
     "metadata": {},
     "output_type": "execute_result"
    }
   ],
   "source": [
    "combinedf.isnull().sum().sort_values(ascending=True)"
   ]
  },
  {
   "cell_type": "code",
   "execution_count": 631,
   "id": "8eedea38",
   "metadata": {},
   "outputs": [
    {
     "data": {
      "text/plain": [
       "Medium    4655\n",
       "NaN       4016\n",
       "Small     3980\n",
       "High      1553\n",
       "Name: Outlet_Size, dtype: int64"
      ]
     },
     "execution_count": 631,
     "metadata": {},
     "output_type": "execute_result"
    }
   ],
   "source": [
    "combinedf.Outlet_Size.value_counts(dropna=False)"
   ]
  },
  {
   "cell_type": "code",
   "execution_count": 632,
   "id": "9f649015",
   "metadata": {},
   "outputs": [],
   "source": [
    "combinedf.Outlet_Size=combinedf.Outlet_Size.fillna(\"Missing\")"
   ]
  },
  {
   "cell_type": "code",
   "execution_count": 633,
   "id": "c985339e",
   "metadata": {},
   "outputs": [
    {
     "data": {
      "text/plain": [
       "Medium     4655\n",
       "Missing    4016\n",
       "Small      3980\n",
       "High       1553\n",
       "Name: Outlet_Size, dtype: int64"
      ]
     },
     "execution_count": 633,
     "metadata": {},
     "output_type": "execute_result"
    }
   ],
   "source": [
    "combinedf.Outlet_Size.value_counts(dropna=False)"
   ]
  },
  {
   "cell_type": "code",
   "execution_count": 634,
   "id": "a6d88cf3",
   "metadata": {},
   "outputs": [],
   "source": [
    "combinedf.Item_Weight=combinedf.Item_Weight.fillna(combinedf.Item_Weight.median())"
   ]
  },
  {
   "cell_type": "code",
   "execution_count": 635,
   "id": "5f2a11d9",
   "metadata": {},
   "outputs": [
    {
     "data": {
      "text/plain": [
       "count    14204.000000\n",
       "mean        12.759739\n",
       "std          4.234851\n",
       "min          4.555000\n",
       "25%          9.300000\n",
       "50%         12.600000\n",
       "75%         16.000000\n",
       "max         21.350000\n",
       "Name: Item_Weight, dtype: float64"
      ]
     },
     "execution_count": 635,
     "metadata": {},
     "output_type": "execute_result"
    }
   ],
   "source": [
    "combinedf.Item_Weight.describe()"
   ]
  },
  {
   "cell_type": "code",
   "execution_count": 636,
   "id": "4f30404b",
   "metadata": {},
   "outputs": [],
   "source": [
    "combinedf.Item_Weight=combinedf.Item_Weight.fillna(combinedf.Item_Weight.mean())"
   ]
  },
  {
   "cell_type": "code",
   "execution_count": 637,
   "id": "94738c9a",
   "metadata": {},
   "outputs": [
    {
     "data": {
      "text/plain": [
       "0    FDA15\n",
       "1    DRC01\n",
       "2    FDN15\n",
       "3    FDX07\n",
       "4    NCD19\n",
       "Name: Item_Identifier, dtype: object"
      ]
     },
     "execution_count": 637,
     "metadata": {},
     "output_type": "execute_result"
    }
   ],
   "source": [
    "combinedf.Item_Identifier.head()"
   ]
  },
  {
   "cell_type": "code",
   "execution_count": 638,
   "id": "a028e1f7",
   "metadata": {},
   "outputs": [],
   "source": [
    "combinedf['Item_Code']=combinedf.Item_Identifier.apply(lambda x:x[0:2])"
   ]
  },
  {
   "cell_type": "code",
   "execution_count": 639,
   "id": "1237031a",
   "metadata": {},
   "outputs": [
    {
     "data": {
      "text/plain": [
       "FD    10201\n",
       "NC     2686\n",
       "DR     1317\n",
       "Name: Item_Code, dtype: int64"
      ]
     },
     "execution_count": 639,
     "metadata": {},
     "output_type": "execute_result"
    }
   ],
   "source": [
    "combinedf.Item_Code.value_counts()"
   ]
  },
  {
   "cell_type": "code",
   "execution_count": 640,
   "id": "c04622f5",
   "metadata": {},
   "outputs": [
    {
     "data": {
      "text/plain": [
       "Low Fat    8485\n",
       "Regular    4824\n",
       "LF          522\n",
       "reg         195\n",
       "low fat     178\n",
       "Name: Item_Fat_Content, dtype: int64"
      ]
     },
     "execution_count": 640,
     "metadata": {},
     "output_type": "execute_result"
    }
   ],
   "source": [
    "combinedf.Item_Fat_Content.value_counts()"
   ]
  },
  {
   "cell_type": "code",
   "execution_count": 641,
   "id": "f08ff37a",
   "metadata": {},
   "outputs": [],
   "source": [
    "combinedf.Item_Fat_Content=combinedf.Item_Fat_Content.replace(['LF','low fat'],'Low Fat')"
   ]
  },
  {
   "cell_type": "code",
   "execution_count": 642,
   "id": "8cb997bc",
   "metadata": {},
   "outputs": [],
   "source": [
    "combinedf.Item_Fat_Content=combinedf.Item_Fat_Content.replace('reg','Regular')"
   ]
  },
  {
   "cell_type": "code",
   "execution_count": 643,
   "id": "7c02506c",
   "metadata": {},
   "outputs": [
    {
     "data": {
      "text/plain": [
       "Low Fat    9185\n",
       "Regular    5019\n",
       "Name: Item_Fat_Content, dtype: int64"
      ]
     },
     "execution_count": 643,
     "metadata": {},
     "output_type": "execute_result"
    }
   ],
   "source": [
    "combinedf.Item_Fat_Content.value_counts()"
   ]
  },
  {
   "cell_type": "code",
   "execution_count": 644,
   "id": "5787d65b",
   "metadata": {},
   "outputs": [
    {
     "data": {
      "text/plain": [
       "count    14204.000000\n",
       "mean         0.065953\n",
       "std          0.051459\n",
       "min          0.000000\n",
       "25%          0.027036\n",
       "50%          0.054021\n",
       "75%          0.094037\n",
       "max          0.328391\n",
       "Name: Item_Visibility, dtype: float64"
      ]
     },
     "execution_count": 644,
     "metadata": {},
     "output_type": "execute_result"
    }
   ],
   "source": [
    "combinedf.Item_Visibility.describe()"
   ]
  },
  {
   "cell_type": "code",
   "execution_count": 645,
   "id": "9b26922f",
   "metadata": {},
   "outputs": [],
   "source": [
    "zerovisible=combinedf[combinedf.Item_Visibility==0]"
   ]
  },
  {
   "cell_type": "code",
   "execution_count": 646,
   "id": "bde8c854",
   "metadata": {},
   "outputs": [
    {
     "data": {
      "text/plain": [
       "(879, 13)"
      ]
     },
     "execution_count": 646,
     "metadata": {},
     "output_type": "execute_result"
    }
   ],
   "source": [
    "zerovisible.shape"
   ]
  },
  {
   "cell_type": "code",
   "execution_count": 647,
   "id": "5494ccc6",
   "metadata": {},
   "outputs": [
    {
     "data": {
      "text/plain": [
       "0.06315122500704028"
      ]
     },
     "execution_count": 647,
     "metadata": {},
     "output_type": "execute_result"
    }
   ],
   "source": [
    "897/14204"
   ]
  },
  {
   "cell_type": "code",
   "execution_count": 648,
   "id": "1b1f2c94",
   "metadata": {},
   "outputs": [
    {
     "data": {
      "text/plain": [
       "Fruits and Vegetables    2013\n",
       "Snack Foods              1989\n",
       "Household                1548\n",
       "Frozen Foods             1426\n",
       "Dairy                    1136\n",
       "Baking Goods             1086\n",
       "Canned                   1084\n",
       "Health and Hygiene        858\n",
       "Meat                      736\n",
       "Soft Drinks               726\n",
       "Breads                    416\n",
       "Hard Drinks               362\n",
       "Others                    280\n",
       "Starchy Foods             269\n",
       "Breakfast                 186\n",
       "Seafood                    89\n",
       "Name: Item_Type, dtype: int64"
      ]
     },
     "execution_count": 648,
     "metadata": {},
     "output_type": "execute_result"
    }
   ],
   "source": [
    "combinedf.Item_Type.value_counts()"
   ]
  },
  {
   "cell_type": "code",
   "execution_count": 649,
   "id": "c6034fd2",
   "metadata": {},
   "outputs": [
    {
     "data": {
      "text/plain": [
       "count    14204.000000\n",
       "mean       141.004977\n",
       "std         62.086938\n",
       "min         31.290000\n",
       "25%         94.012000\n",
       "50%        142.247000\n",
       "75%        185.855600\n",
       "max        266.888400\n",
       "Name: Item_MRP, dtype: float64"
      ]
     },
     "execution_count": 649,
     "metadata": {},
     "output_type": "execute_result"
    }
   ],
   "source": [
    "combinedf.Item_MRP.describe()"
   ]
  },
  {
   "cell_type": "code",
   "execution_count": 650,
   "id": "75336c29",
   "metadata": {},
   "outputs": [
    {
     "data": {
      "text/plain": [
       "OUT027    1559\n",
       "OUT013    1553\n",
       "OUT049    1550\n",
       "OUT046    1550\n",
       "OUT035    1550\n",
       "OUT045    1548\n",
       "OUT018    1546\n",
       "OUT017    1543\n",
       "OUT010     925\n",
       "OUT019     880\n",
       "Name: Outlet_Identifier, dtype: int64"
      ]
     },
     "execution_count": 650,
     "metadata": {},
     "output_type": "execute_result"
    }
   ],
   "source": [
    "combinedf.Outlet_Identifier.value_counts()"
   ]
  },
  {
   "cell_type": "code",
   "execution_count": 651,
   "id": "10228b09",
   "metadata": {},
   "outputs": [],
   "source": [
    "combinedf['Outlet_Age']=2021-combinedf.Outlet_Establishment_Year"
   ]
  },
  {
   "cell_type": "code",
   "execution_count": 652,
   "id": "24036660",
   "metadata": {},
   "outputs": [
    {
     "data": {
      "text/plain": [
       "count    14204.000000\n",
       "mean        23.169319\n",
       "std          8.371664\n",
       "min         12.000000\n",
       "25%         17.000000\n",
       "50%         22.000000\n",
       "75%         34.000000\n",
       "max         36.000000\n",
       "Name: Outlet_Age, dtype: float64"
      ]
     },
     "execution_count": 652,
     "metadata": {},
     "output_type": "execute_result"
    }
   ],
   "source": [
    "combinedf.Outlet_Age.describe()"
   ]
  },
  {
   "cell_type": "code",
   "execution_count": 653,
   "id": "516ae204",
   "metadata": {},
   "outputs": [
    {
     "data": {
      "text/plain": [
       "Tier 3    5583\n",
       "Tier 2    4641\n",
       "Tier 1    3980\n",
       "Name: Outlet_Location_Type, dtype: int64"
      ]
     },
     "execution_count": 653,
     "metadata": {},
     "output_type": "execute_result"
    }
   ],
   "source": [
    "combinedf.Outlet_Location_Type.value_counts()"
   ]
  },
  {
   "cell_type": "code",
   "execution_count": 654,
   "id": "23ca9b0b",
   "metadata": {},
   "outputs": [
    {
     "data": {
      "text/plain": [
       "Supermarket Type1    9294\n",
       "Grocery Store        1805\n",
       "Supermarket Type3    1559\n",
       "Supermarket Type2    1546\n",
       "Name: Outlet_Type, dtype: int64"
      ]
     },
     "execution_count": 654,
     "metadata": {},
     "output_type": "execute_result"
    }
   ],
   "source": [
    "combinedf.Outlet_Type.value_counts()"
   ]
  },
  {
   "cell_type": "code",
   "execution_count": 655,
   "id": "f368da05",
   "metadata": {},
   "outputs": [],
   "source": [
    "numericcols=combinedf.select_dtypes(include=np.number)\n",
    "objectcols=combinedf.select_dtypes(include=['object'])"
   ]
  },
  {
   "cell_type": "code",
   "execution_count": 656,
   "id": "c98b8dfa",
   "metadata": {},
   "outputs": [
    {
     "name": "stdout",
     "output_type": "stream",
     "text": [
      "(14204, 5)\n",
      "(14204, 9)\n"
     ]
    }
   ],
   "source": [
    "print(numericcols.shape)\n",
    "print(objectcols.shape)"
   ]
  },
  {
   "cell_type": "code",
   "execution_count": 657,
   "id": "eeb07d0b",
   "metadata": {},
   "outputs": [
    {
     "data": {
      "text/plain": [
       "Index(['Item_Identifier', 'Item_Fat_Content', 'Item_Type', 'Outlet_Identifier',\n",
       "       'Outlet_Size', 'Outlet_Location_Type', 'Outlet_Type',\n",
       "       'Item_Outlet_Sales', 'Item_Code'],\n",
       "      dtype='object')"
      ]
     },
     "execution_count": 657,
     "metadata": {},
     "output_type": "execute_result"
    }
   ],
   "source": [
    "objectcols.columns"
   ]
  },
  {
   "cell_type": "code",
   "execution_count": 658,
   "id": "9b15f7e4",
   "metadata": {},
   "outputs": [
    {
     "name": "stderr",
     "output_type": "stream",
     "text": [
      "C:\\Users\\abcd\\AppData\\Local\\Temp/ipykernel_10136/2433453598.py:1: SettingWithCopyWarning: \n",
      "A value is trying to be set on a copy of a slice from a DataFrame.\n",
      "Try using .loc[row_indexer,col_indexer] = value instead\n",
      "\n",
      "See the caveats in the documentation: https://pandas.pydata.org/pandas-docs/stable/user_guide/indexing.html#returning-a-view-versus-a-copy\n",
      "  numericcols['Item_Outlet_Sales']=objectcols.Item_Outlet_Sales\n"
     ]
    }
   ],
   "source": [
    "numericcols['Item_Outlet_Sales']=objectcols.Item_Outlet_Sales"
   ]
  },
  {
   "cell_type": "code",
   "execution_count": 659,
   "id": "733b6a6b",
   "metadata": {},
   "outputs": [],
   "source": [
    "objectcols=objectcols.drop(['Item_Outlet_Sales','Item_Identifier'],axis=1)\n",
    "#axis=1 is column dropping\n",
    "#axis=2 is row dropping"
   ]
  },
  {
   "cell_type": "code",
   "execution_count": 660,
   "id": "3ea7e7b4",
   "metadata": {},
   "outputs": [],
   "source": [
    "objectcolsdummy=pd.get_dummies(objectcols)\n",
    "#dummy encoder or lable encoder non numeric objectdata"
   ]
  },
  {
   "cell_type": "code",
   "execution_count": 661,
   "id": "db7182d5",
   "metadata": {},
   "outputs": [
    {
     "name": "stdout",
     "output_type": "stream",
     "text": [
      "(14204, 7)\n",
      "(14204, 42)\n"
     ]
    }
   ],
   "source": [
    "print(objectcols.shape)\n",
    "print(objectcolsdummy.shape)"
   ]
  },
  {
   "cell_type": "code",
   "execution_count": 662,
   "id": "41643306",
   "metadata": {},
   "outputs": [
    {
     "data": {
      "text/plain": [
       "Index(['Item_Fat_Content_Low Fat', 'Item_Fat_Content_Regular',\n",
       "       'Item_Type_Baking Goods', 'Item_Type_Breads', 'Item_Type_Breakfast',\n",
       "       'Item_Type_Canned', 'Item_Type_Dairy', 'Item_Type_Frozen Foods',\n",
       "       'Item_Type_Fruits and Vegetables', 'Item_Type_Hard Drinks',\n",
       "       'Item_Type_Health and Hygiene', 'Item_Type_Household', 'Item_Type_Meat',\n",
       "       'Item_Type_Others', 'Item_Type_Seafood', 'Item_Type_Snack Foods',\n",
       "       'Item_Type_Soft Drinks', 'Item_Type_Starchy Foods',\n",
       "       'Outlet_Identifier_OUT010', 'Outlet_Identifier_OUT013',\n",
       "       'Outlet_Identifier_OUT017', 'Outlet_Identifier_OUT018',\n",
       "       'Outlet_Identifier_OUT019', 'Outlet_Identifier_OUT027',\n",
       "       'Outlet_Identifier_OUT035', 'Outlet_Identifier_OUT045',\n",
       "       'Outlet_Identifier_OUT046', 'Outlet_Identifier_OUT049',\n",
       "       'Outlet_Size_High', 'Outlet_Size_Medium', 'Outlet_Size_Missing',\n",
       "       'Outlet_Size_Small', 'Outlet_Location_Type_Tier 1',\n",
       "       'Outlet_Location_Type_Tier 2', 'Outlet_Location_Type_Tier 3',\n",
       "       'Outlet_Type_Grocery Store', 'Outlet_Type_Supermarket Type1',\n",
       "       'Outlet_Type_Supermarket Type2', 'Outlet_Type_Supermarket Type3',\n",
       "       'Item_Code_DR', 'Item_Code_FD', 'Item_Code_NC'],\n",
       "      dtype='object')"
      ]
     },
     "execution_count": 662,
     "metadata": {},
     "output_type": "execute_result"
    }
   ],
   "source": [
    "objectcolsdummy.columns"
   ]
  },
  {
   "cell_type": "code",
   "execution_count": 663,
   "id": "f5b721d6",
   "metadata": {},
   "outputs": [
    {
     "data": {
      "text/html": [
       "<div>\n",
       "<style scoped>\n",
       "    .dataframe tbody tr th:only-of-type {\n",
       "        vertical-align: middle;\n",
       "    }\n",
       "\n",
       "    .dataframe tbody tr th {\n",
       "        vertical-align: top;\n",
       "    }\n",
       "\n",
       "    .dataframe thead th {\n",
       "        text-align: right;\n",
       "    }\n",
       "</style>\n",
       "<table border=\"1\" class=\"dataframe\">\n",
       "  <thead>\n",
       "    <tr style=\"text-align: right;\">\n",
       "      <th></th>\n",
       "      <th>Item_Fat_Content_Low Fat</th>\n",
       "      <th>Item_Fat_Content_Regular</th>\n",
       "      <th>Item_Type_Baking Goods</th>\n",
       "      <th>Item_Type_Breads</th>\n",
       "      <th>Item_Type_Breakfast</th>\n",
       "      <th>Item_Type_Canned</th>\n",
       "      <th>Item_Type_Dairy</th>\n",
       "      <th>Item_Type_Frozen Foods</th>\n",
       "      <th>Item_Type_Fruits and Vegetables</th>\n",
       "      <th>Item_Type_Hard Drinks</th>\n",
       "      <th>...</th>\n",
       "      <th>Outlet_Location_Type_Tier 1</th>\n",
       "      <th>Outlet_Location_Type_Tier 2</th>\n",
       "      <th>Outlet_Location_Type_Tier 3</th>\n",
       "      <th>Outlet_Type_Grocery Store</th>\n",
       "      <th>Outlet_Type_Supermarket Type1</th>\n",
       "      <th>Outlet_Type_Supermarket Type2</th>\n",
       "      <th>Outlet_Type_Supermarket Type3</th>\n",
       "      <th>Item_Code_DR</th>\n",
       "      <th>Item_Code_FD</th>\n",
       "      <th>Item_Code_NC</th>\n",
       "    </tr>\n",
       "  </thead>\n",
       "  <tbody>\n",
       "    <tr>\n",
       "      <th>0</th>\n",
       "      <td>1</td>\n",
       "      <td>0</td>\n",
       "      <td>0</td>\n",
       "      <td>0</td>\n",
       "      <td>0</td>\n",
       "      <td>0</td>\n",
       "      <td>1</td>\n",
       "      <td>0</td>\n",
       "      <td>0</td>\n",
       "      <td>0</td>\n",
       "      <td>...</td>\n",
       "      <td>1</td>\n",
       "      <td>0</td>\n",
       "      <td>0</td>\n",
       "      <td>0</td>\n",
       "      <td>1</td>\n",
       "      <td>0</td>\n",
       "      <td>0</td>\n",
       "      <td>0</td>\n",
       "      <td>1</td>\n",
       "      <td>0</td>\n",
       "    </tr>\n",
       "    <tr>\n",
       "      <th>1</th>\n",
       "      <td>0</td>\n",
       "      <td>1</td>\n",
       "      <td>0</td>\n",
       "      <td>0</td>\n",
       "      <td>0</td>\n",
       "      <td>0</td>\n",
       "      <td>0</td>\n",
       "      <td>0</td>\n",
       "      <td>0</td>\n",
       "      <td>0</td>\n",
       "      <td>...</td>\n",
       "      <td>0</td>\n",
       "      <td>0</td>\n",
       "      <td>1</td>\n",
       "      <td>0</td>\n",
       "      <td>0</td>\n",
       "      <td>1</td>\n",
       "      <td>0</td>\n",
       "      <td>1</td>\n",
       "      <td>0</td>\n",
       "      <td>0</td>\n",
       "    </tr>\n",
       "    <tr>\n",
       "      <th>2</th>\n",
       "      <td>1</td>\n",
       "      <td>0</td>\n",
       "      <td>0</td>\n",
       "      <td>0</td>\n",
       "      <td>0</td>\n",
       "      <td>0</td>\n",
       "      <td>0</td>\n",
       "      <td>0</td>\n",
       "      <td>0</td>\n",
       "      <td>0</td>\n",
       "      <td>...</td>\n",
       "      <td>1</td>\n",
       "      <td>0</td>\n",
       "      <td>0</td>\n",
       "      <td>0</td>\n",
       "      <td>1</td>\n",
       "      <td>0</td>\n",
       "      <td>0</td>\n",
       "      <td>0</td>\n",
       "      <td>1</td>\n",
       "      <td>0</td>\n",
       "    </tr>\n",
       "    <tr>\n",
       "      <th>3</th>\n",
       "      <td>0</td>\n",
       "      <td>1</td>\n",
       "      <td>0</td>\n",
       "      <td>0</td>\n",
       "      <td>0</td>\n",
       "      <td>0</td>\n",
       "      <td>0</td>\n",
       "      <td>0</td>\n",
       "      <td>1</td>\n",
       "      <td>0</td>\n",
       "      <td>...</td>\n",
       "      <td>0</td>\n",
       "      <td>0</td>\n",
       "      <td>1</td>\n",
       "      <td>1</td>\n",
       "      <td>0</td>\n",
       "      <td>0</td>\n",
       "      <td>0</td>\n",
       "      <td>0</td>\n",
       "      <td>1</td>\n",
       "      <td>0</td>\n",
       "    </tr>\n",
       "    <tr>\n",
       "      <th>4</th>\n",
       "      <td>1</td>\n",
       "      <td>0</td>\n",
       "      <td>0</td>\n",
       "      <td>0</td>\n",
       "      <td>0</td>\n",
       "      <td>0</td>\n",
       "      <td>0</td>\n",
       "      <td>0</td>\n",
       "      <td>0</td>\n",
       "      <td>0</td>\n",
       "      <td>...</td>\n",
       "      <td>0</td>\n",
       "      <td>0</td>\n",
       "      <td>1</td>\n",
       "      <td>0</td>\n",
       "      <td>1</td>\n",
       "      <td>0</td>\n",
       "      <td>0</td>\n",
       "      <td>0</td>\n",
       "      <td>0</td>\n",
       "      <td>1</td>\n",
       "    </tr>\n",
       "    <tr>\n",
       "      <th>5</th>\n",
       "      <td>0</td>\n",
       "      <td>1</td>\n",
       "      <td>1</td>\n",
       "      <td>0</td>\n",
       "      <td>0</td>\n",
       "      <td>0</td>\n",
       "      <td>0</td>\n",
       "      <td>0</td>\n",
       "      <td>0</td>\n",
       "      <td>0</td>\n",
       "      <td>...</td>\n",
       "      <td>0</td>\n",
       "      <td>0</td>\n",
       "      <td>1</td>\n",
       "      <td>0</td>\n",
       "      <td>0</td>\n",
       "      <td>1</td>\n",
       "      <td>0</td>\n",
       "      <td>0</td>\n",
       "      <td>1</td>\n",
       "      <td>0</td>\n",
       "    </tr>\n",
       "    <tr>\n",
       "      <th>6</th>\n",
       "      <td>0</td>\n",
       "      <td>1</td>\n",
       "      <td>0</td>\n",
       "      <td>0</td>\n",
       "      <td>0</td>\n",
       "      <td>0</td>\n",
       "      <td>0</td>\n",
       "      <td>0</td>\n",
       "      <td>0</td>\n",
       "      <td>0</td>\n",
       "      <td>...</td>\n",
       "      <td>0</td>\n",
       "      <td>0</td>\n",
       "      <td>1</td>\n",
       "      <td>0</td>\n",
       "      <td>1</td>\n",
       "      <td>0</td>\n",
       "      <td>0</td>\n",
       "      <td>0</td>\n",
       "      <td>1</td>\n",
       "      <td>0</td>\n",
       "    </tr>\n",
       "    <tr>\n",
       "      <th>7</th>\n",
       "      <td>1</td>\n",
       "      <td>0</td>\n",
       "      <td>0</td>\n",
       "      <td>0</td>\n",
       "      <td>0</td>\n",
       "      <td>0</td>\n",
       "      <td>0</td>\n",
       "      <td>0</td>\n",
       "      <td>0</td>\n",
       "      <td>0</td>\n",
       "      <td>...</td>\n",
       "      <td>0</td>\n",
       "      <td>0</td>\n",
       "      <td>1</td>\n",
       "      <td>0</td>\n",
       "      <td>0</td>\n",
       "      <td>0</td>\n",
       "      <td>1</td>\n",
       "      <td>0</td>\n",
       "      <td>1</td>\n",
       "      <td>0</td>\n",
       "    </tr>\n",
       "  </tbody>\n",
       "</table>\n",
       "<p>8 rows × 42 columns</p>\n",
       "</div>"
      ],
      "text/plain": [
       "   Item_Fat_Content_Low Fat  Item_Fat_Content_Regular  Item_Type_Baking Goods  \\\n",
       "0                         1                         0                       0   \n",
       "1                         0                         1                       0   \n",
       "2                         1                         0                       0   \n",
       "3                         0                         1                       0   \n",
       "4                         1                         0                       0   \n",
       "5                         0                         1                       1   \n",
       "6                         0                         1                       0   \n",
       "7                         1                         0                       0   \n",
       "\n",
       "   Item_Type_Breads  Item_Type_Breakfast  Item_Type_Canned  Item_Type_Dairy  \\\n",
       "0                 0                    0                 0                1   \n",
       "1                 0                    0                 0                0   \n",
       "2                 0                    0                 0                0   \n",
       "3                 0                    0                 0                0   \n",
       "4                 0                    0                 0                0   \n",
       "5                 0                    0                 0                0   \n",
       "6                 0                    0                 0                0   \n",
       "7                 0                    0                 0                0   \n",
       "\n",
       "   Item_Type_Frozen Foods  Item_Type_Fruits and Vegetables  \\\n",
       "0                       0                                0   \n",
       "1                       0                                0   \n",
       "2                       0                                0   \n",
       "3                       0                                1   \n",
       "4                       0                                0   \n",
       "5                       0                                0   \n",
       "6                       0                                0   \n",
       "7                       0                                0   \n",
       "\n",
       "   Item_Type_Hard Drinks  ...  Outlet_Location_Type_Tier 1  \\\n",
       "0                      0  ...                            1   \n",
       "1                      0  ...                            0   \n",
       "2                      0  ...                            1   \n",
       "3                      0  ...                            0   \n",
       "4                      0  ...                            0   \n",
       "5                      0  ...                            0   \n",
       "6                      0  ...                            0   \n",
       "7                      0  ...                            0   \n",
       "\n",
       "   Outlet_Location_Type_Tier 2  Outlet_Location_Type_Tier 3  \\\n",
       "0                            0                            0   \n",
       "1                            0                            1   \n",
       "2                            0                            0   \n",
       "3                            0                            1   \n",
       "4                            0                            1   \n",
       "5                            0                            1   \n",
       "6                            0                            1   \n",
       "7                            0                            1   \n",
       "\n",
       "   Outlet_Type_Grocery Store  Outlet_Type_Supermarket Type1  \\\n",
       "0                          0                              1   \n",
       "1                          0                              0   \n",
       "2                          0                              1   \n",
       "3                          1                              0   \n",
       "4                          0                              1   \n",
       "5                          0                              0   \n",
       "6                          0                              1   \n",
       "7                          0                              0   \n",
       "\n",
       "   Outlet_Type_Supermarket Type2  Outlet_Type_Supermarket Type3  Item_Code_DR  \\\n",
       "0                              0                              0             0   \n",
       "1                              1                              0             1   \n",
       "2                              0                              0             0   \n",
       "3                              0                              0             0   \n",
       "4                              0                              0             0   \n",
       "5                              1                              0             0   \n",
       "6                              0                              0             0   \n",
       "7                              0                              1             0   \n",
       "\n",
       "   Item_Code_FD  Item_Code_NC  \n",
       "0             1             0  \n",
       "1             0             0  \n",
       "2             1             0  \n",
       "3             1             0  \n",
       "4             0             1  \n",
       "5             1             0  \n",
       "6             1             0  \n",
       "7             1             0  \n",
       "\n",
       "[8 rows x 42 columns]"
      ]
     },
     "execution_count": 663,
     "metadata": {},
     "output_type": "execute_result"
    }
   ],
   "source": [
    "objectcolsdummy.head(8)"
   ]
  },
  {
   "cell_type": "code",
   "execution_count": 664,
   "id": "fe42b26b",
   "metadata": {},
   "outputs": [
    {
     "data": {
      "text/plain": [
       "Index(['Item_Weight', 'Item_Visibility', 'Item_MRP',\n",
       "       'Outlet_Establishment_Year', 'Outlet_Age', 'Item_Outlet_Sales'],\n",
       "      dtype='object')"
      ]
     },
     "execution_count": 664,
     "metadata": {},
     "output_type": "execute_result"
    }
   ],
   "source": [
    "numericcols.columns"
   ]
  },
  {
   "cell_type": "code",
   "execution_count": 665,
   "id": "829dee11",
   "metadata": {},
   "outputs": [
    {
     "data": {
      "text/plain": [
       "Index(['Item_Fat_Content', 'Item_Type', 'Outlet_Identifier', 'Outlet_Size',\n",
       "       'Outlet_Location_Type', 'Outlet_Type', 'Item_Code'],\n",
       "      dtype='object')"
      ]
     },
     "execution_count": 665,
     "metadata": {},
     "output_type": "execute_result"
    }
   ],
   "source": [
    "objectcols.columns"
   ]
  },
  {
   "cell_type": "code",
   "execution_count": 666,
   "id": "190e31d1",
   "metadata": {},
   "outputs": [],
   "source": [
    "numericcols=numericcols.drop('Outlet_Establishment_Year',axis=1)"
   ]
  },
  {
   "cell_type": "code",
   "execution_count": 667,
   "id": "f611c192",
   "metadata": {},
   "outputs": [],
   "source": [
    "combinedfclean=pd.concat([numericcols,objectcolsdummy],axis=1)\n",
    "#column ca"
   ]
  },
  {
   "cell_type": "code",
   "execution_count": 668,
   "id": "65f66eee",
   "metadata": {},
   "outputs": [],
   "source": [
    "bigmarttraindf=combinedfclean[combinedfclean.Item_Outlet_Sales!='test']\n",
    "bigmarttestdf=combinedfclean[combinedfclean.Item_Outlet_Sales=='test']"
   ]
  },
  {
   "cell_type": "code",
   "execution_count": 669,
   "id": "f98b525c",
   "metadata": {},
   "outputs": [
    {
     "name": "stdout",
     "output_type": "stream",
     "text": [
      "(8523, 47)\n",
      "(5681, 47)\n"
     ]
    }
   ],
   "source": [
    "print(bigmarttraindf.shape)\n",
    "print(bigmarttestdf.shape)"
   ]
  },
  {
   "cell_type": "code",
   "execution_count": 670,
   "id": "9325e2e4",
   "metadata": {},
   "outputs": [],
   "source": [
    "bigmarttestdf=bigmarttestdf.drop('Item_Outlet_Sales',axis=1)"
   ]
  },
  {
   "cell_type": "code",
   "execution_count": 671,
   "id": "4a68408c",
   "metadata": {},
   "outputs": [
    {
     "data": {
      "text/plain": [
       "dtype('O')"
      ]
     },
     "execution_count": 671,
     "metadata": {},
     "output_type": "execute_result"
    }
   ],
   "source": [
    "bigmarttraindf.Item_Outlet_Sales.dtypes"
   ]
  },
  {
   "cell_type": "code",
   "execution_count": 672,
   "id": "b84064f5",
   "metadata": {},
   "outputs": [
    {
     "name": "stderr",
     "output_type": "stream",
     "text": [
      "C:\\Users\\abcd\\anaconda3\\lib\\site-packages\\pandas\\core\\generic.py:5516: SettingWithCopyWarning: \n",
      "A value is trying to be set on a copy of a slice from a DataFrame.\n",
      "Try using .loc[row_indexer,col_indexer] = value instead\n",
      "\n",
      "See the caveats in the documentation: https://pandas.pydata.org/pandas-docs/stable/user_guide/indexing.html#returning-a-view-versus-a-copy\n",
      "  self[name] = value\n"
     ]
    }
   ],
   "source": [
    "bigmarttraindf.Item_Outlet_Sales=pd.to_numeric(bigmarttraindf.Item_Outlet_Sales)"
   ]
  },
  {
   "cell_type": "code",
   "execution_count": 735,
   "id": "01853db9",
   "metadata": {},
   "outputs": [
    {
     "data": {
      "text/plain": [
       "<AxesSubplot:ylabel='Item_Outlet_Sales'>"
      ]
     },
     "execution_count": 735,
     "metadata": {},
     "output_type": "execute_result"
    },
    {
     "data": {
      "image/png": "[encoded data removed]",
      "text/plain": [
       "<Figure size 432x288 with 1 Axes>"
      ]
     },
     "metadata": {},
     "output_type": "display_data"
    }
   ],
   "source": [
    "bigmarttrain.Item_Outlet_Sales.groupby(bigmarttrain.Outlet_Size).sum().plot(kind=\"pie\")"
   ]
  },
  {
   "cell_type": "code",
   "execution_count": 736,
   "id": "78b8646f",
   "metadata": {},
   "outputs": [
    {
     "data": {
      "text/plain": [
       "<AxesSubplot:ylabel='Item_Outlet_Sales'>"
      ]
     },
     "execution_count": 736,
     "metadata": {},
     "output_type": "execute_result"
    },
    {
     "data": {
      "image/png": "[encoded data removed]",
      "text/plain": [
       "<Figure size 432x288 with 1 Axes>"
      ]
     },
     "metadata": {},
     "output_type": "display_data"
    }
   ],
   "source": [
    "#with percentage\n",
    "bigmarttrain.Item_Outlet_Sales.groupby(bigmarttrain.Outlet_Size).sum().plot(kind=\"pie\",autopct=\"%1.1f%%\")"
   ]
  },
  {
   "cell_type": "code",
   "execution_count": 738,
   "id": "f9c2c3b6",
   "metadata": {},
   "outputs": [
    {
     "data": {
      "text/plain": [
       "<AxesSubplot:xlabel='Item_Type'>"
      ]
     },
     "execution_count": 738,
     "metadata": {},
     "output_type": "execute_result"
    },
    {
     "data": {
      "image/png": "[encoded data removed]",
      "text/plain": [
       "<Figure size 432x288 with 1 Axes>"
      ]
     },
     "metadata": {
      "needs_background": "light"
     },
     "output_type": "display_data"
    }
   ],
   "source": [
    "bigmarttrain.Item_Outlet_Sales.groupby(bigmarttrain.Item_Type).sum().plot(kind=\"bar\")"
   ]
  },
  {
   "cell_type": "code",
   "execution_count": null,
   "id": "af6ee2a0",
   "metadata": {},
   "outputs": [],
   "source": [
    "bigmarttrain.Item_Outlet_Sales.groupby(bigmarttrain.Item).sum().plot(kind=\"pie\")"
   ]
  },
  {
   "cell_type": "code",
   "execution_count": 712,
   "id": "4528c201",
   "metadata": {},
   "outputs": [
    {
     "data": {
      "text/plain": [
       "Outlet_Type\n",
       "Grocery Store         339.828500\n",
       "Supermarket Type1    2316.181148\n",
       "Supermarket Type2    1995.498739\n",
       "Supermarket Type3    3694.038558\n",
       "Name: Item_Outlet_Sales, dtype: float64"
      ]
     },
     "execution_count": 712,
     "metadata": {},
     "output_type": "execute_result"
    }
   ],
   "source": [
    "#what is the average Item_outlet_sales for diffrent outlettype\n",
    "bigmarttrain.Item_Outlet_Sales.groupby(bigmarttrain.Outlet_Type).mean()\n",
    "#NULL HYPOTHESIS _NO SIGNIFICAT DIFF\n",
    "#ALT-significant diff"
   ]
  },
  {
   "cell_type": "code",
   "execution_count": 722,
   "id": "ae5b9235",
   "metadata": {},
   "outputs": [],
   "source": [
    "gs=bigmarttrain[bigmarttrain.Outlet_Type==\"Grocery Store\"]\n",
    "st1=bigmarttrain[bigmarttrain.Outlet_Type==\"Supermarket Type1\"]\n",
    "st2=bigmarttrain[bigmarttrain.Outlet_Type==\"Supermarket Type2\"]\n",
    "st3=bigmarttrain[bigmarttrain.Outlet_Type==\"Supermarket Type3\"]"
   ]
  },
  {
   "cell_type": "code",
   "execution_count": 723,
   "id": "fcd955b7",
   "metadata": {},
   "outputs": [],
   "source": [
    "from scipy.stats import f_oneway"
   ]
  },
  {
   "cell_type": "code",
   "execution_count": 724,
   "id": "9d3fe14d",
   "metadata": {},
   "outputs": [
    {
     "data": {
      "text/plain": [
       "F_onewayResult(statistic=894.6500119018012, pvalue=0.0)"
      ]
     },
     "execution_count": 724,
     "metadata": {},
     "output_type": "execute_result"
    }
   ],
   "source": [
    "f_oneway(gs.Item_Outlet_Sales,st1.Item_Outlet_Sales,st2.Item_Outlet_Sales,st3.Item_Outlet_Sales)"
   ]
  },
  {
   "cell_type": "code",
   "execution_count": 725,
   "id": "7ff173bb",
   "metadata": {},
   "outputs": [
    {
     "data": {
      "text/plain": [
       "Outlet_Location_Type\n",
       "Tier 1    1876.909159\n",
       "Tier 2    2323.990559\n",
       "Tier 3    2279.627651\n",
       "Name: Item_Outlet_Sales, dtype: float64"
      ]
     },
     "execution_count": 725,
     "metadata": {},
     "output_type": "execute_result"
    }
   ],
   "source": [
    "bigmarttraindf.Item_Outlet_Sales.groupby(bigmarttrain.Outlet_Location_Type).mean()\n",
    "#null=no significant diff\n",
    "#alt=significant diff"
   ]
  },
  {
   "cell_type": "code",
   "execution_count": 729,
   "id": "3f05b048",
   "metadata": {},
   "outputs": [],
   "source": [
    "#'Outlet_Location_Type_Tier 1',\n",
    "      # 'Outlet_Location_Type_Tier 2', 'Outlet_Location_Type_Tier 3',\n",
    "t1=bigmarttrain[bigmarttrain.Outlet_Location_Type==\"Tier 1\"]\n",
    "t2=bigmarttrain[bigmarttrain.Outlet_Location_Type==\"Tier 2\"]\n",
    "t3=bigmarttrain[bigmarttrain.Outlet_Location_Type==\"Tier 3\"]"
   ]
  },
  {
   "cell_type": "code",
   "execution_count": 730,
   "id": "07b91bba",
   "metadata": {},
   "outputs": [
    {
     "data": {
      "text/plain": [
       "F_onewayResult(statistic=53.947739874560675, pvalue=5.2228172988842975e-24)"
      ]
     },
     "execution_count": 730,
     "metadata": {},
     "output_type": "execute_result"
    }
   ],
   "source": [
    "f_oneway(t1.Item_Outlet_Sales,t2.Item_Outlet_Sales,t3.Item_Outlet_Sales)"
   ]
  },
  {
   "cell_type": "code",
   "execution_count": null,
   "id": "9292ed19",
   "metadata": {},
   "outputs": [],
   "source": [
    "#null hypothesis is rejicted"
   ]
  },
  {
   "cell_type": "code",
   "execution_count": 732,
   "id": "b75f7c24",
   "metadata": {},
   "outputs": [],
   "source": [
    "from scipy.stats import chi2_contingency"
   ]
  },
  {
   "cell_type": "code",
   "execution_count": 733,
   "id": "4b198c2e",
   "metadata": {},
   "outputs": [
    {
     "data": {
      "text/html": [
       "<div>\n",
       "<style scoped>\n",
       "    .dataframe tbody tr th:only-of-type {\n",
       "        vertical-align: middle;\n",
       "    }\n",
       "\n",
       "    .dataframe tbody tr th {\n",
       "        vertical-align: top;\n",
       "    }\n",
       "\n",
       "    .dataframe thead th {\n",
       "        text-align: right;\n",
       "    }\n",
       "</style>\n",
       "<table border=\"1\" class=\"dataframe\">\n",
       "  <thead>\n",
       "    <tr style=\"text-align: right;\">\n",
       "      <th>Item_Outlet_Sales</th>\n",
       "      <th>33.2900</th>\n",
       "      <th>33.9558</th>\n",
       "      <th>34.6216</th>\n",
       "      <th>35.2874</th>\n",
       "      <th>36.6190</th>\n",
       "      <th>37.2848</th>\n",
       "      <th>37.9506</th>\n",
       "      <th>38.6164</th>\n",
       "      <th>39.9480</th>\n",
       "      <th>40.6138</th>\n",
       "      <th>...</th>\n",
       "      <th>9678.0688</th>\n",
       "      <th>9779.9362</th>\n",
       "      <th>10072.8882</th>\n",
       "      <th>10236.6750</th>\n",
       "      <th>10256.6490</th>\n",
       "      <th>10306.5840</th>\n",
       "      <th>10993.6896</th>\n",
       "      <th>11445.1020</th>\n",
       "      <th>12117.5600</th>\n",
       "      <th>13086.9648</th>\n",
       "    </tr>\n",
       "    <tr>\n",
       "      <th>Outlet_Type</th>\n",
       "      <th></th>\n",
       "      <th></th>\n",
       "      <th></th>\n",
       "      <th></th>\n",
       "      <th></th>\n",
       "      <th></th>\n",
       "      <th></th>\n",
       "      <th></th>\n",
       "      <th></th>\n",
       "      <th></th>\n",
       "      <th></th>\n",
       "      <th></th>\n",
       "      <th></th>\n",
       "      <th></th>\n",
       "      <th></th>\n",
       "      <th></th>\n",
       "      <th></th>\n",
       "      <th></th>\n",
       "      <th></th>\n",
       "      <th></th>\n",
       "      <th></th>\n",
       "    </tr>\n",
       "  </thead>\n",
       "  <tbody>\n",
       "    <tr>\n",
       "      <th>Grocery Store</th>\n",
       "      <td>2</td>\n",
       "      <td>1</td>\n",
       "      <td>1</td>\n",
       "      <td>1</td>\n",
       "      <td>2</td>\n",
       "      <td>1</td>\n",
       "      <td>5</td>\n",
       "      <td>2</td>\n",
       "      <td>2</td>\n",
       "      <td>2</td>\n",
       "      <td>...</td>\n",
       "      <td>0</td>\n",
       "      <td>0</td>\n",
       "      <td>0</td>\n",
       "      <td>0</td>\n",
       "      <td>0</td>\n",
       "      <td>0</td>\n",
       "      <td>0</td>\n",
       "      <td>0</td>\n",
       "      <td>0</td>\n",
       "      <td>0</td>\n",
       "    </tr>\n",
       "    <tr>\n",
       "      <th>Supermarket Type1</th>\n",
       "      <td>0</td>\n",
       "      <td>0</td>\n",
       "      <td>0</td>\n",
       "      <td>0</td>\n",
       "      <td>0</td>\n",
       "      <td>0</td>\n",
       "      <td>0</td>\n",
       "      <td>0</td>\n",
       "      <td>0</td>\n",
       "      <td>0</td>\n",
       "      <td>...</td>\n",
       "      <td>0</td>\n",
       "      <td>1</td>\n",
       "      <td>0</td>\n",
       "      <td>0</td>\n",
       "      <td>1</td>\n",
       "      <td>0</td>\n",
       "      <td>0</td>\n",
       "      <td>0</td>\n",
       "      <td>0</td>\n",
       "      <td>0</td>\n",
       "    </tr>\n",
       "    <tr>\n",
       "      <th>Supermarket Type2</th>\n",
       "      <td>0</td>\n",
       "      <td>0</td>\n",
       "      <td>0</td>\n",
       "      <td>0</td>\n",
       "      <td>0</td>\n",
       "      <td>0</td>\n",
       "      <td>0</td>\n",
       "      <td>0</td>\n",
       "      <td>0</td>\n",
       "      <td>0</td>\n",
       "      <td>...</td>\n",
       "      <td>0</td>\n",
       "      <td>0</td>\n",
       "      <td>0</td>\n",
       "      <td>0</td>\n",
       "      <td>0</td>\n",
       "      <td>0</td>\n",
       "      <td>0</td>\n",
       "      <td>0</td>\n",
       "      <td>0</td>\n",
       "      <td>0</td>\n",
       "    </tr>\n",
       "    <tr>\n",
       "      <th>Supermarket Type3</th>\n",
       "      <td>0</td>\n",
       "      <td>0</td>\n",
       "      <td>0</td>\n",
       "      <td>0</td>\n",
       "      <td>0</td>\n",
       "      <td>0</td>\n",
       "      <td>0</td>\n",
       "      <td>0</td>\n",
       "      <td>0</td>\n",
       "      <td>0</td>\n",
       "      <td>...</td>\n",
       "      <td>1</td>\n",
       "      <td>0</td>\n",
       "      <td>1</td>\n",
       "      <td>1</td>\n",
       "      <td>0</td>\n",
       "      <td>1</td>\n",
       "      <td>1</td>\n",
       "      <td>1</td>\n",
       "      <td>1</td>\n",
       "      <td>1</td>\n",
       "    </tr>\n",
       "  </tbody>\n",
       "</table>\n",
       "<p>4 rows × 3493 columns</p>\n",
       "</div>"
      ],
      "text/plain": [
       "Item_Outlet_Sales  33.2900     33.9558     34.6216     35.2874     36.6190     \\\n",
       "Outlet_Type                                                                     \n",
       "Grocery Store               2           1           1           1           2   \n",
       "Supermarket Type1           0           0           0           0           0   \n",
       "Supermarket Type2           0           0           0           0           0   \n",
       "Supermarket Type3           0           0           0           0           0   \n",
       "\n",
       "Item_Outlet_Sales  37.2848     37.9506     38.6164     39.9480     40.6138     \\\n",
       "Outlet_Type                                                                     \n",
       "Grocery Store               1           5           2           2           2   \n",
       "Supermarket Type1           0           0           0           0           0   \n",
       "Supermarket Type2           0           0           0           0           0   \n",
       "Supermarket Type3           0           0           0           0           0   \n",
       "\n",
       "Item_Outlet_Sales  ...  9678.0688   9779.9362   10072.8882  10236.6750  \\\n",
       "Outlet_Type        ...                                                   \n",
       "Grocery Store      ...           0           0           0           0   \n",
       "Supermarket Type1  ...           0           1           0           0   \n",
       "Supermarket Type2  ...           0           0           0           0   \n",
       "Supermarket Type3  ...           1           0           1           1   \n",
       "\n",
       "Item_Outlet_Sales  10256.6490  10306.5840  10993.6896  11445.1020  12117.5600  \\\n",
       "Outlet_Type                                                                     \n",
       "Grocery Store               0           0           0           0           0   \n",
       "Supermarket Type1           1           0           0           0           0   \n",
       "Supermarket Type2           0           0           0           0           0   \n",
       "Supermarket Type3           0           1           1           1           1   \n",
       "\n",
       "Item_Outlet_Sales  13086.9648  \n",
       "Outlet_Type                    \n",
       "Grocery Store               0  \n",
       "Supermarket Type1           0  \n",
       "Supermarket Type2           0  \n",
       "Supermarket Type3           1  \n",
       "\n",
       "[4 rows x 3493 columns]"
      ]
     },
     "execution_count": 733,
     "metadata": {},
     "output_type": "execute_result"
    }
   ],
   "source": [
    "pd.crosstab(bigmarttrain.Outlet_Type,bigmarttrain.Item_Outlet_Sales)"
   ]
  },
  {
   "cell_type": "code",
   "execution_count": 673,
   "id": "3b41b3bc",
   "metadata": {},
   "outputs": [],
   "source": [
    "y=bigmarttraindf.Item_Outlet_Sales\n",
    "x=bigmarttraindf.drop('Item_Outlet_Sales',axis=1)"
   ]
  },
  {
   "cell_type": "code",
   "execution_count": 674,
   "id": "0e89c769",
   "metadata": {},
   "outputs": [
    {
     "data": {
      "text/plain": [
       "(8523, 46)"
      ]
     },
     "execution_count": 674,
     "metadata": {},
     "output_type": "execute_result"
    }
   ],
   "source": [
    "x.shape"
   ]
  },
  {
   "cell_type": "code",
   "execution_count": 675,
   "id": "98328737",
   "metadata": {},
   "outputs": [
    {
     "data": {
      "text/plain": [
       "<AxesSubplot:ylabel='Frequency'>"
      ]
     },
     "execution_count": 675,
     "metadata": {},
     "output_type": "execute_result"
    },
    {
     "data": {
      "image/png": "[encoded data removed]",
      "text/plain": [
       "<Figure size 432x288 with 1 Axes>"
      ]
     },
     "metadata": {
      "needs_background": "light"
     },
     "output_type": "display_data"
    }
   ],
   "source": [
    "y.plot(kind='hist')"
   ]
  },
  {
   "cell_type": "code",
   "execution_count": 676,
   "id": "406f3eae",
   "metadata": {},
   "outputs": [
    {
     "data": {
      "text/plain": [
       "<AxesSubplot:>"
      ]
     },
     "execution_count": 676,
     "metadata": {},
     "output_type": "execute_result"
    },
    {
     "data": {
      "image/png": "[encoded data removed]",
      "text/plain": [
       "<Figure size 432x288 with 1 Axes>"
      ]
     },
     "metadata": {
      "needs_background": "light"
     },
     "output_type": "display_data"
    }
   ],
   "source": [
    "y.plot(kind='box',vert=False)"
   ]
  },
  {
   "cell_type": "code",
   "execution_count": 677,
   "id": "b023949b",
   "metadata": {},
   "outputs": [
    {
     "data": {
      "text/plain": [
       "<AxesSubplot:ylabel='Density'>"
      ]
     },
     "execution_count": 677,
     "metadata": {},
     "output_type": "execute_result"
    },
    {
     "data": {
      "image/png": "[encoded data removed]",
      "text/plain": [
       "<Figure size 432x288 with 1 Axes>"
      ]
     },
     "metadata": {
      "needs_background": "light"
     },
     "output_type": "display_data"
    }
   ],
   "source": [
    "y.plot(kind='density')"
   ]
  },
  {
   "cell_type": "code",
   "execution_count": 678,
   "id": "a901e517",
   "metadata": {},
   "outputs": [],
   "source": [
    "from sklearn.linear_model import LinearRegression"
   ]
  },
  {
   "cell_type": "code",
   "execution_count": 695,
   "id": "0ebb1b20",
   "metadata": {},
   "outputs": [],
   "source": [
    "reg=LinearRegression()"
   ]
  },
  {
   "cell_type": "code",
   "execution_count": 696,
   "id": "0d3e2eed",
   "metadata": {},
   "outputs": [],
   "source": [
    "regmodel=reg.fit(x,y)"
   ]
  },
  {
   "cell_type": "code",
   "execution_count": 697,
   "id": "e197e6fb",
   "metadata": {},
   "outputs": [
    {
     "data": {
      "text/plain": [
       "0.5637737001510251"
      ]
     },
     "execution_count": 697,
     "metadata": {},
     "output_type": "execute_result"
    }
   ],
   "source": [
    "regmodel.score(x,y)"
   ]
  },
  {
   "cell_type": "code",
   "execution_count": 698,
   "id": "c86a54a9",
   "metadata": {},
   "outputs": [
    {
     "data": {
      "text/plain": [
       "-577.1596763296593"
      ]
     },
     "execution_count": 698,
     "metadata": {},
     "output_type": "execute_result"
    }
   ],
   "source": [
    "regmodel.intercept_"
   ]
  },
  {
   "cell_type": "code",
   "execution_count": 699,
   "id": "b12ec23e",
   "metadata": {},
   "outputs": [
    {
     "name": "stdout",
     "output_type": "stream",
     "text": [
      "[('Item_Weight', -0.5200273627393736), ('Item_Visibility', -300.06707630086794), ('Item_MRP', 15.570635789832815), ('Outlet_Age', 14.37422848042081), ('Item_Fat_Content_Low Fat', -21.059166195451564), ('Item_Fat_Content_Regular', 21.059166195451002), ('Item_Type_Baking Goods', -3.2104710018476497), ('Item_Type_Breads', 1.9250378206204966), ('Item_Type_Breakfast', 3.9839650536793063), ('Item_Type_Canned', 22.271905888700744), ('Item_Type_Dairy', -53.00446586276542), ('Item_Type_Frozen Foods', -31.253550501581813), ('Item_Type_Fruits and Vegetables', 26.51372579752184), ('Item_Type_Hard Drinks', -47.26078009769552), ('Item_Type_Health and Hygiene', 4.423071407525389), ('Item_Type_Household', -24.342665740882257), ('Item_Type_Meat', -3.858079857797366), ('Item_Type_Others', -6.538845577653858), ('Item_Type_Seafood', 181.66630948761252), ('Item_Type_Snack Foods', -14.6083112865221), ('Item_Type_Soft Drinks', -74.89160051671523), ('Item_Type_Starchy Foods', 18.18475498778905), ('Outlet_Identifier_OUT010', -418.12885586558053), ('Outlet_Identifier_OUT013', -79.43387357489969), ('Outlet_Identifier_OUT017', 211.0997614338955), ('Outlet_Identifier_OUT018', -92.81147634763629), ('Outlet_Identifier_OUT019', -473.51458081632785), ('Outlet_Identifier_OUT027', 598.1841583987339), ('Outlet_Identifier_OUT035', 64.66934220661251), ('Outlet_Identifier_OUT045', -35.0198339492035), ('Outlet_Identifier_OUT046', 309.6530091356919), ('Outlet_Identifier_OUT049', -84.69765062128745), ('Outlet_Size_High', -79.43387357489975), ('Outlet_Size_Medium', 420.67503142980934), ('Outlet_Size_Missing', -242.04892838088568), ('Outlet_Size_Small', -99.19222947402459), ('Outlet_Location_Type_Tier 1', -248.55922230192382), ('Outlet_Location_Type_Tier 2', 240.7492696913079), ('Outlet_Location_Type_Tier 3', 7.809952610617635), ('Outlet_Type_Grocery Store', -891.6434366819101), ('Outlet_Type_Supermarket Type1', 386.27075463080865), ('Outlet_Type_Supermarket Type2', -92.81147634763657), ('Outlet_Type_Supermarket Type3', 598.1841583987339), ('Item_Code_DR', 35.4335091759802), ('Item_Code_FD', -8.975069264968571), ('Item_Code_NC', -26.45843991101406)]\n"
     ]
    }
   ],
   "source": [
    "print(list(zip(x.columns,regmodel.coef_)))"
   ]
  },
  {
   "cell_type": "code",
   "execution_count": 700,
   "id": "f4126196",
   "metadata": {},
   "outputs": [],
   "source": [
    "regpredict=regmodel.predict(x)"
   ]
  },
  {
   "cell_type": "code",
   "execution_count": 701,
   "id": "8e4887e0",
   "metadata": {},
   "outputs": [
    {
     "data": {
      "text/plain": [
       "array([4009.76011104,  562.5129848 , 2369.82262179, ..., 1525.94416664,\n",
       "       1394.19304552, 1209.38313357])"
      ]
     },
     "execution_count": 701,
     "metadata": {},
     "output_type": "execute_result"
    }
   ],
   "source": [
    "regpredict"
   ]
  },
  {
   "cell_type": "code",
   "execution_count": 702,
   "id": "dd793758",
   "metadata": {},
   "outputs": [
    {
     "data": {
      "text/plain": [
       "0    3735.1380\n",
       "1     443.4228\n",
       "2    2097.2700\n",
       "3     732.3800\n",
       "4     994.7052\n",
       "Name: Item_Outlet_Sales, dtype: float64"
      ]
     },
     "execution_count": 702,
     "metadata": {},
     "output_type": "execute_result"
    }
   ],
   "source": [
    "y.head()"
   ]
  },
  {
   "cell_type": "code",
   "execution_count": 705,
   "id": "c045e663",
   "metadata": {},
   "outputs": [],
   "source": [
    "regresidual=y-regpredict"
   ]
  },
  {
   "cell_type": "code",
   "execution_count": 706,
   "id": "65ed20ea",
   "metadata": {},
   "outputs": [
    {
     "data": {
      "text/plain": [
       "0   -274.622111\n",
       "1   -119.090185\n",
       "2   -272.552622\n",
       "3   -341.004532\n",
       "4     85.776022\n",
       "Name: Item_Outlet_Sales, dtype: float64"
      ]
     },
     "execution_count": 706,
     "metadata": {},
     "output_type": "execute_result"
    }
   ],
   "source": [
    "regresidual.head()"
   ]
  },
  {
   "cell_type": "code",
   "execution_count": 708,
   "id": "52e30f2f",
   "metadata": {},
   "outputs": [
    {
     "data": {
      "text/plain": [
       "1127.033014742993"
      ]
     },
     "execution_count": 708,
     "metadata": {},
     "output_type": "execute_result"
    }
   ],
   "source": [
    "np.sqrt(np.mean(regresidual**2))"
   ]
  }
 ],
 "metadata": {
  "kernelspec": {
   "display_name": "Python 3 (ipykernel)",
   "language": "python",
   "name": "python3"
  },
  "language_info": {
   "codemirror_mode": {
    "name": "ipython",
    "version": 3
   },
   "file_extension": ".py",
   "mimetype": "text/x-python",
   "name": "python",
   "nbconvert_exporter": "python",
   "pygments_lexer": "ipython3",
   "version": "3.9.7"
  }
 },
 "nbformat": 4,
 "nbformat_minor": 5
}
